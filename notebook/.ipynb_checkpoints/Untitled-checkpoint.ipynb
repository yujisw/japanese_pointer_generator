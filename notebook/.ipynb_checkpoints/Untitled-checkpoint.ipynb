{
 "cells": [
  {
   "cell_type": "code",
   "execution_count": 6,
   "metadata": {},
   "outputs": [],
   "source": [
    "import os\n",
    "import pandas as pd"
   ]
  },
  {
   "cell_type": "code",
   "execution_count": 11,
   "metadata": {
    "scrolled": true
   },
   "outputs": [
    {
     "data": {
      "text/html": [
       "<div>\n",
       "<style scoped>\n",
       "    .dataframe tbody tr th:only-of-type {\n",
       "        vertical-align: middle;\n",
       "    }\n",
       "\n",
       "    .dataframe tbody tr th {\n",
       "        vertical-align: top;\n",
       "    }\n",
       "\n",
       "    .dataframe thead th {\n",
       "        text-align: right;\n",
       "    }\n",
       "</style>\n",
       "<table border=\"1\" class=\"dataframe\">\n",
       "  <thead>\n",
       "    <tr style=\"text-align: right;\">\n",
       "      <th></th>\n",
       "      <th>abstract1</th>\n",
       "      <th>abstract2</th>\n",
       "      <th>abstract3</th>\n",
       "      <th>article</th>\n",
       "    </tr>\n",
       "  </thead>\n",
       "  <tbody>\n",
       "    <tr>\n",
       "      <th>0</th>\n",
       "      <td>岡むら屋から、期間限定の新メニュー「じゃが肉めし」が登場する</td>\n",
       "      <td>男爵いもなどは味噌ベースで煮こまれ、しっかり味が染み込んでいるとのこと</td>\n",
       "      <td>「岡むら屋特製肉じゃが」と言うべき一品に、仕上がっているという</td>\n",
       "      <td>新橋と秋葉原に店を構える「岡むら屋」。味噌ベースの独自の味つけで牛バラ肉を煮込んだ具材がたっ...</td>\n",
       "    </tr>\n",
       "    <tr>\n",
       "      <th>1</th>\n",
       "      <td>東京駅周辺の安くて美味しい「蕎麦ランチ」の名店を紹介している</td>\n",
       "      <td>「越後そば 東京店」では、ミニかき揚げ丼セットがおすすめと筆者</td>\n",
       "      <td>その他には、「手打ちそば 石月」「酢重正之 楽」「鎌倉 一茶庵 丸山」など</td>\n",
       "      <td>名店がひしめく「丸の内・日本橋」エリアで＜うまい蕎麦ランチ＞が食べられるお店を厳選してご紹介...</td>\n",
       "    </tr>\n",
       "    <tr>\n",
       "      <th>2</th>\n",
       "      <td>8日から「サンクトガーレン」は、「チョコビール」4種を販売する</td>\n",
       "      <td>ダークな茶色、ほろ苦いビターチョコのような香りが特長のビール</td>\n",
       "      <td>毎年バレンタインシーズン限定で販売され、2016年で11年目となるそう</td>\n",
       "      <td>地ビールメーカー「サンクトガーレン」は、「チョコビール」4種を2016年1月8日から全国の取...</td>\n",
       "    </tr>\n",
       "    <tr>\n",
       "      <th>3</th>\n",
       "      <td>1年以内に登場した、東京みやげの新定番を紹介している</td>\n",
       "      <td>カファレルの「東京ジャンドゥーヤチョコパイ」</td>\n",
       "      <td>オーボンヴュータンの「ソーシソン・セック」など</td>\n",
       "      <td>■ アロハファームカフェ/「オリジナル スパム」ほか(220円〜)ハワイのローカルフード“ス...</td>\n",
       "    </tr>\n",
       "    <tr>\n",
       "      <th>4</th>\n",
       "      <td>新しいポテトチップスの味として「パクチー味」が話題になっている</td>\n",
       "      <td>フリーズドライパクチーとパクチードレッシングがついているものもある</td>\n",
       "      <td>自宅で手軽にパクチーが存分に楽しめるようになっているという</td>\n",
       "      <td>また、同時期にKALDIからも「パクチーポテトチップス」が登場しています。コチラもパクチー...</td>\n",
       "    </tr>\n",
       "  </tbody>\n",
       "</table>\n",
       "</div>"
      ],
      "text/plain": [
       "                         abstract1                            abstract2  \\\n",
       "0   岡むら屋から、期間限定の新メニュー「じゃが肉めし」が登場する  男爵いもなどは味噌ベースで煮こまれ、しっかり味が染み込んでいるとのこと   \n",
       "1   東京駅周辺の安くて美味しい「蕎麦ランチ」の名店を紹介している      「越後そば 東京店」では、ミニかき揚げ丼セットがおすすめと筆者   \n",
       "2  8日から「サンクトガーレン」は、「チョコビール」4種を販売する       ダークな茶色、ほろ苦いビターチョコのような香りが特長のビール   \n",
       "3       1年以内に登場した、東京みやげの新定番を紹介している               カファレルの「東京ジャンドゥーヤチョコパイ」   \n",
       "4  新しいポテトチップスの味として「パクチー味」が話題になっている    フリーズドライパクチーとパクチードレッシングがついているものもある   \n",
       "\n",
       "                               abstract3  \\\n",
       "0        「岡むら屋特製肉じゃが」と言うべき一品に、仕上がっているという   \n",
       "1  その他には、「手打ちそば 石月」「酢重正之 楽」「鎌倉 一茶庵 丸山」など   \n",
       "2    毎年バレンタインシーズン限定で販売され、2016年で11年目となるそう   \n",
       "3                オーボンヴュータンの「ソーシソン・セック」など   \n",
       "4          自宅で手軽にパクチーが存分に楽しめるようになっているという   \n",
       "\n",
       "                                             article  \n",
       "0  新橋と秋葉原に店を構える「岡むら屋」。味噌ベースの独自の味つけで牛バラ肉を煮込んだ具材がたっ...  \n",
       "1  名店がひしめく「丸の内・日本橋」エリアで＜うまい蕎麦ランチ＞が食べられるお店を厳選してご紹介...  \n",
       "2  地ビールメーカー「サンクトガーレン」は、「チョコビール」4種を2016年1月8日から全国の取...  \n",
       "3  ■ アロハファームカフェ/「オリジナル スパム」ほか(220円〜)ハワイのローカルフード“ス...  \n",
       "4  　また、同時期にKALDIからも「パクチーポテトチップス」が登場しています。コチラもパクチー...  "
      ]
     },
     "execution_count": 11,
     "metadata": {},
     "output_type": "execute_result"
    }
   ],
   "source": [
    "df_text = pd.read_table('/home/naraki/summarization/pointer_summarizer/data/train_without_null.tsv',index_col=0)\n",
    "df_text.head()"
   ]
  },
  {
   "cell_type": "code",
   "execution_count": 6,
   "metadata": {},
   "outputs": [],
   "source": [
    "idx=0"
   ]
  },
  {
   "cell_type": "code",
   "execution_count": 14,
   "metadata": {},
   "outputs": [
    {
     "name": "stdout",
     "output_type": "stream",
     "text": [
      "0\n",
      "reference\n",
      "ゆで時間5秒でできる「小松菜の塩だしびたし」のレシピを紹介している。\n",
      "小松菜を5秒ゆでて冷水にとり、水気をしっかりと絞ったらバットに広げる。\n",
      "だしと塩のみの浸し汁を注ぎ、冷蔵庫に30分ほど入れて味をなじませて完成。\n",
      "decoded\n",
      "野菜の常備菜レシピを紹介している。\n",
      "小松菜は根元に十字の切り込みを入れて、長さ3cmに切り、鍋に入る大きさのざるに入れる。\n",
      "保存容器に入れ、冷蔵庫で２〜４日保存可能。\n",
      "1\n",
      "reference\n",
      "ロシア連邦サハ共和国にある巨大な穴の正体を説明している。\n",
      "この穴はダイヤモンドの採掘場で、大きさは直径1.2km、深さ525mである。\n",
      "世界のダイヤモンドの25％はこの穴で採れるという。\n",
      "decoded\n",
      "「地獄への入口さながらの巨大穴は、深さ525m、直径1.2kmをほこります。\n",
      "1955年にこの採石場ができてからは、世界のダイヤモンドの25％はこの穴で採れる。\n",
      "2009年に地上での採掘を終えてからは巨大マシンが地下を掘り進みダイヤモンドを発掘\n",
      "2\n",
      "reference\n",
      "片思い女子が絶対に聞いておくべき「元カノ」情報を紹介している。\n",
      "交際期間を聞くことで、彼女を大切にするタイプかがわかるという。\n",
      "元カノと今も連絡を取っているか、気にする女子も多いようである。\n",
      "decoded\n",
      "「元カノと交際期間が短い人は何か原因があるんだなって避けるようにしてる。\n",
      "交際人数が少なくても長く付き合ってた人は、彼女を大事にしてくれるタイプだから安心できる」と指摘。\n",
      "「自分も振られるかもしれないから無理！と嫌っている人\n",
      "3\n",
      "reference\n",
      "余った「おせち」を、カレーと一緒に煮込み実食している。\n",
      "数の子はプチプチ食感とライス、スパイスが混然一体となり美味しいと筆者。\n",
      "栗きんとんと伊達巻きは合わず、失敗だったという。\n",
      "decoded\n",
      "余ったおせち料理を紹介している。\n",
      "カレーの隠し味にはちみつを入れる感覚で甘いものもいける。\n",
      "いつものジャガイモとは違う食感と香りが新鮮で、意外に相性がいいという。\n",
      "4\n",
      "reference\n",
      "合コンで女性が実践する「計算的振る舞い」を集めている。\n",
      "「すごーい!」というリアクションや、美白効果を狙ってトップスに白を着ること。\n",
      "サラダを取り分ける角の席を確保し、ボディタッチも交える。\n",
      "decoded\n",
      "仕事でも使える超定番褒め言葉を紹介している。\n",
      "トップスは白「反射の美白効果を狙って、合コンの日は必ず白いトップスを着る」。\n",
      "サラダの取り分けや飲み物の注文がスムーズにできる。\n",
      "5\n",
      "reference\n",
      "「zozoused」で22日から7日間限定で過去最大級セールが始まった。\n",
      "20万点以上のアイテムが300円となる、スペシャルセール。\n",
      "セール対象商品は各日12時に表示され、発売開始となる。\n",
      "decoded\n",
      "hystericglamourが、hysteric、nano・universe、shipsなど、毎日追加された。\n",
      "300円セール対象商品は各日12時に表示され発売開始。\n",
      "好きなブランドアイテム10点買っても3000円のお得なセール。\n",
      "6\n",
      "reference\n",
      "キャバ嬢に教わる、初対面でデキる男かを見極めるポイントを紹介している。\n",
      "スーツの着こなし方がしっかりできていない男性は、デキない男。\n",
      "個人名刺を持っている男性は、遊び人の可能性大だという。\n",
      "decoded\n",
      "初対面でデキる男かを見極めるチェックポイントを紹介している。\n",
      "「名刺」と言っても、大事なのは、そこに記載されている内容だけではない。\n",
      "相手の目を見て、明るく元気にハキハキと！なんて言うという。\n",
      "7\n",
      "reference\n",
      "4日の「ミヤネ屋」で、安倍晋三首相に食事を誘われた宮根誠司氏。\n",
      "笑顔で誘いに乗った宮根氏に、違和感を覚えたという声がネットに寄せられた。\n",
      "一部ネットメディアは、宮根氏が「タイコ持ち発言をした」とまで報じている。\n",
      "decoded\n",
      "大阪で収録された同番組に生出演した宮根誠司君のアピール文が踊った。\n",
      "安倍首相は質問に答えず、身振り手振りを交えて「一緒に今度行きますか？大阪で」と誘った。\n",
      "「美味しいところで食べたいですから」と誘いに乗った。\n",
      "8\n",
      "reference\n",
      "2008年にオープンした、東京の恵比寿横丁を紹介している。\n",
      "客層は多岐にわたり、サラリーマンから老人まで肩を寄せ合い飲んでいる。\n",
      "人との距離の近さや、昭和の風情を残したほっこり感が魅力だという。\n",
      "decoded\n",
      "東京の恵比寿横丁は横丁の楽しさを思い出させてくれる場所を紹介している。\n",
      "終戦直後から公設市場だったこの場所を、飲食店プロデュースを手がける浜倉好宣さんが2年かけて生まれ変わらせたという。\n",
      "9\n",
      "reference\n",
      "ソフトバンクの柳田悠岐に、メジャーが熱視線を送っている。\n",
      "ダイヤモンドバックス関係者は「彼のプレーはエキサイティング」と評価。\n",
      "「私は若いセンターが気に入っている」「いいニュースだ」と述べている。\n",
      "decoded\n",
      "日本屈指の強打者に成長した柳田の獲得に早くも興味を示している。\n",
      "mlbを代表する強打者として活躍したゴンザレス氏は、1人の野手のプレーが鮮明に刻まれていた。\n",
      "「彼のプレーはエキサイティングだった」と興奮気味に話している。\n"
     ]
    }
   ],
   "source": [
    "for idx in range(10):\n",
    "#     idx += 10\n",
    "    print(idx)\n",
    "#     model_name = 'model_15000_1581616236'\n",
    "    model_name = 'model_13000_1581669039'\n",
    "    article_path = '/home/naraki/summarization/pointer_summarizer/log/decode_{}/rouge_article/{:0>6}_article.txt'.format(model_name,idx)\n",
    "    ref_path = '/home/naraki/summarization/pointer_summarizer/log/decode_{}/rouge_ref/{:0>6}_reference.txt'.format(model_name,idx)\n",
    "    dec_path = '/home/naraki/summarization/pointer_summarizer/log/decode_{}/rouge_dec_dir/{:0>6}_decoded.txt'.format(model_name,idx)\n",
    "\n",
    "    with open(article_path,'r') as f:\n",
    "        article = f.read().replace(' ','')\n",
    "\n",
    "    with open(ref_path,'r') as f:\n",
    "        ref = f.read().replace(' ','')\n",
    "\n",
    "    with open(dec_path,'r') as f:\n",
    "        dec = f.read().replace(' ','')\n",
    "\n",
    "    print(\"article\")\n",
    "    print(article)\n",
    "    print(\"reference\")\n",
    "    print(ref)\n",
    "    print(\"decoded\")\n",
    "    print(dec)\n"
   ]
  },
  {
   "cell_type": "code",
   "execution_count": 39,
   "metadata": {},
   "outputs": [
    {
     "name": "stdout",
     "output_type": "stream",
     "text": [
      "33\n",
      "reference\n",
      "/home/naraki/summarization/pointer_summarizer/log/decode_model_470000_1580188855/rouge_ref/000033_reference.txt\n",
      "急速 な 円 安 ドル 高 が 進ん で い た が 、 今後 は 円 高 ドル 安 に 進む と 予測 さ れ て いる 。\n",
      "来 オフ に も メジャー 移籍 が 予想 さ れる 大谷 翔 平 も 、 円 高 と なる と 大損 する 。\n",
      "日本ハム も 、 ポスティング 金額 で 億 単位 の 損失 を 受ける かも しれ ない と いう 。\n",
      "decoded\n",
      "/home/naraki/summarization/pointer_summarizer/log/decode_model_470000_1580188855/rouge_dec_dir/000033_decoded.txt\n",
      "2 0 1 6 年 に 「 [UNK] [UNK] し て い る こ と 」 を [UNK] 介 し て い る 。\n",
      "1 位 に は 「 ス マ ホ 」 、 2 位 は 「 2 0 0 0 万 円 」 が 1 位 に な っ た 。\n",
      "2 位 は 「 2 0 0 0 万 円 以 上 」 、 2 位 は 「 3 0 0 0 万 円 」 が 1 位 に な っ た 。\n",
      "\n"
     ]
    }
   ],
   "source": [
    "idx+=1\n",
    "print(idx)\n",
    "ref_path = '/home/naraki/summarization/pointer_summarizer/log/decode_model_470000_1580188855/rouge_ref/{:0>6}_reference.txt'.format(idx)\n",
    "dec_path = '/home/naraki/summarization/pointer_summarizer/log/decode_model_470000_1580188855/rouge_dec_dir/{:0>6}_decoded.txt'.format(idx)\n",
    "\n",
    "with open(ref_path,'r') as f:\n",
    "    ref = f.read()\n",
    "\n",
    "with open(dec_path,'r') as f:\n",
    "    dec = f.read().replace(\"[ ' \",\"\").replace(\"' ]\",\"\").replace(\"' , ' \",\"\")\n",
    "\n",
    "print(\"reference\")\n",
    "print(ref_path)\n",
    "print(ref)\n",
    "print(\"decoded\")\n",
    "print(dec_path)\n",
    "print(dec)\n"
   ]
  },
  {
   "cell_type": "code",
   "execution_count": 51,
   "metadata": {},
   "outputs": [
    {
     "data": {
      "text/plain": [
       "'吉高由里子が胎児のエコー写真とみられる画像を投稿し、話題になっている'"
      ]
     },
     "execution_count": 51,
     "metadata": {},
     "output_type": "execute_result"
    }
   ],
   "source": [
    "ref.split('\\n')[0].replace(' ','').replace('。','')"
   ]
  },
  {
   "cell_type": "code",
   "execution_count": 58,
   "metadata": {},
   "outputs": [
    {
     "name": "stdout",
     "output_type": "stream",
     "text": [
      "　イチローはこの日、「6番・右翼」でスタメン出場したが、4回からオズナがベンチに退いたことでセンターの守備に就いた。そして迎えた5回。1-2と1点ビハインドの1死一塁の場面でメッツの主砲グランダーソンがセンター右へ大飛球を放った。そのホームラン性の打球にイチローが素早く反応。背走しながら打球とフェンスを確認すると、フェンス際でジャンピングキャッチを決めた。グランダーソンの大飛球に沸いた敵地シティ・フィールドも騒然となり、観客の大歓声はため息へと変わった。結局、メッツはこの回無得点に終わった。　これにはマイアミで試合を中継した「FOXスポーツ・フロリダ」の実況も絶叫。「グランダーソンがセンターに運ぶ。イチローが走る。フェンス際だ。飛んだ。つかんだ！　フェンス最上部にイチローがいました。（グラブに）収めてます。本塁から390フィート（約119メートル）でした」と興奮気味にレポートした。　この日解説を務めたマーリンズOBのプレストン・ウィルソン元外野手も、右翼手として2001年から10年連続でゴールドグラブ賞を受賞した名手の守備を絶賛。「見てください、イチローの偉大な仕事ぶりを！　フェンスを見て、位置を把握します。ただただ冷静です。パニックのようなものはありません。スペースも把握しています。これはすごいキャッチです。イチローの偉大なプレーです」と解説した。　イチローは2回先頭の第1打席で相手先発の43歳右腕コロンから右前安打をマーク。メジャー最年長対決で通算3012安打目を放ち、先制のホームも踏んだ。チームは2-5と逆転負けを許したが、敗戦の中でもベテランらしい好プレーが光った。\n"
     ]
    }
   ],
   "source": [
    "for row in df_text.itertuples():\n",
    "    if '4日の「ミヤネ屋」で、安倍晋三首相に食事を誘われた宮根誠司氏。' in row[1]:\n",
    "        print(row[4])\n",
    "        break"
   ]
  },
  {
   "cell_type": "code",
   "execution_count": null,
   "metadata": {},
   "outputs": [],
   "source": []
  }
 ],
 "metadata": {
  "kernelspec": {
   "display_name": "Python 3",
   "language": "python",
   "name": "python3"
  },
  "language_info": {
   "codemirror_mode": {
    "name": "ipython",
    "version": 3
   },
   "file_extension": ".py",
   "mimetype": "text/x-python",
   "name": "python",
   "nbconvert_exporter": "python",
   "pygments_lexer": "ipython3",
   "version": "3.7.4"
  }
 },
 "nbformat": 4,
 "nbformat_minor": 2
}
